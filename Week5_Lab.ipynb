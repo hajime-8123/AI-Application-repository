{
  "nbformat": 4,
  "nbformat_minor": 0,
  "metadata": {
    "colab": {
      "provenance": [],
      "authorship_tag": "ABX9TyN8e8hOkCgbwY0iIK+DAK02",
      "include_colab_link": true
    },
    "kernelspec": {
      "name": "python3",
      "display_name": "Python 3"
    },
    "language_info": {
      "name": "python"
    }
  },
  "cells": [
    {
      "cell_type": "markdown",
      "metadata": {
        "id": "view-in-github",
        "colab_type": "text"
      },
      "source": [
        "<a href=\"https://colab.research.google.com/github/hajime-8123/AI-Application-repository/blob/main/Week5_Lab.ipynb\" target=\"_parent\"><img src=\"https://colab.research.google.com/assets/colab-badge.svg\" alt=\"Open In Colab\"/></a>"
      ]
    },
    {
      "cell_type": "code",
      "execution_count": 9,
      "metadata": {
        "id": "QNbEANKnBlRy"
      },
      "outputs": [],
      "source": [
        "# Import TensorFlow and other Liblaries\n",
        "\n",
        "import tensorflow as tf\n",
        "import numpy as np\n",
        "import matplotlib.pyplot as plt"
      ]
    },
    {
      "cell_type": "code",
      "source": [
        "# Load the MNIST dataset\n",
        "mnist = tf.keras.datasets.mnist\n",
        "\n",
        "# Split the dataset into trainning and test sets\n",
        "(train_images, train_labels), (test_images, test_labels) = mnist.load_data()\n",
        "\n",
        "\n",
        "# Normalize the images\n",
        "train_images = train_images / 255.0\n",
        "test_images = test_images / 255.0\n"
      ],
      "metadata": {
        "colab": {
          "base_uri": "https://localhost:8080/"
        },
        "id": "79FS8PkcEkfM",
        "outputId": "1bac62e1-9547-45a6-a4ca-03fbdc14fa33"
      },
      "execution_count": 10,
      "outputs": [
        {
          "output_type": "stream",
          "name": "stdout",
          "text": [
            "Downloading data from https://storage.googleapis.com/tensorflow/tf-keras-datasets/mnist.npz\n",
            "11490434/11490434 [==============================] - 0s 0us/step\n"
          ]
        }
      ]
    },
    {
      "cell_type": "code",
      "source": [
        "#Explore the dataset\n",
        "\n",
        "#Plot the first 5 images from the training set\n",
        "plt.figure(figsize=(10,2))\n",
        "for i in range(5):\n",
        "    plt.subplot(1,5, i+1)\n",
        "    plt.imshow(train_images[i], cmap='gray')\n",
        "    plt.title(f\"Label: {train_labels[i]}\")\n",
        "plt.show()"
      ],
      "metadata": {
        "colab": {
          "base_uri": "https://localhost:8080/",
          "height": 216
        },
        "id": "Wr-S-wraEruK",
        "outputId": "d28d4e25-54d4-4aa1-8b8c-b5909b0dda02"
      },
      "execution_count": 11,
      "outputs": [
        {
          "output_type": "display_data",
          "data": {
            "text/plain": [
              "<Figure size 1000x200 with 5 Axes>"
            ],
            "image/png": "[encoded data removed]"
          },
          "metadata": {}
        }
      ]
    },
    {
      "cell_type": "code",
      "source": [
        "# Build the model\n",
        "model = tf.keras.Sequential([\n",
        "    tf.keras.layers.Flatten(input_shape=(28,28)),\n",
        "    tf.keras.layers.Dense(128, activation='relu'),\n",
        "    tf.keras.layers.Dense(10, activation='softmax')\n",
        "])\n",
        "\n",
        "# Compile the model\n",
        "model.compile(optimizer='adam',\n",
        "              loss='sparse_categorical_crossentropy',\n",
        "              metrics=['accuracy'])"
      ],
      "metadata": {
        "id": "Nxlr6rM6C1Hl"
      },
      "execution_count": 12,
      "outputs": []
    },
    {
      "cell_type": "code",
      "source": [
        "# Train the model\n",
        "history = model.fit(train_images, train_labels, epochs=5)"
      ],
      "metadata": {
        "colab": {
          "base_uri": "https://localhost:8080/"
        },
        "id": "ysGaFdzHDmid",
        "outputId": "b95c0b5b-3179-4465-ff1f-e7f226ea63db"
      },
      "execution_count": 14,
      "outputs": [
        {
          "output_type": "stream",
          "name": "stdout",
          "text": [
            "Epoch 1/5\n",
            "1875/1875 [==============================] - 7s 4ms/step - loss: 0.0357 - accuracy: 0.9892\n",
            "Epoch 2/5\n",
            "1875/1875 [==============================] - 6s 3ms/step - loss: 0.0288 - accuracy: 0.9910\n",
            "Epoch 3/5\n",
            "1875/1875 [==============================] - 7s 4ms/step - loss: 0.0224 - accuracy: 0.9930\n",
            "Epoch 4/5\n",
            "1875/1875 [==============================] - 6s 3ms/step - loss: 0.0188 - accuracy: 0.9943\n",
            "Epoch 5/5\n",
            "1875/1875 [==============================] - 8s 4ms/step - loss: 0.0168 - accuracy: 0.9946\n"
          ]
        }
      ]
    },
    {
      "cell_type": "code",
      "source": [
        "# Evaluate the model\n",
        "\n",
        "test_loss, test_acc = model.evaluate(test_images, test_labels)\n",
        "print(f\"Test accuracy: {test_acc}\")"
      ],
      "metadata": {
        "colab": {
          "base_uri": "https://localhost:8080/"
        },
        "id": "ShjlH7PbFAHb",
        "outputId": "853fb0f5-2584-4b8d-b178-9521e6bc5103"
      },
      "execution_count": 15,
      "outputs": [
        {
          "output_type": "stream",
          "name": "stdout",
          "text": [
            "313/313 [==============================] - 1s 2ms/step - loss: 0.0783 - accuracy: 0.9791\n",
            "Test accuracy: 0.9790999889373779\n"
          ]
        }
      ]
    },
    {
      "cell_type": "code",
      "source": [
        "# Funciton to create and evaluate model with different activation functions\n",
        "def evaluate_activation(activation_function):\n",
        "    model = tf.keras.Sequential([\n",
        "        tf.keras.layers.Flatten(input_shape=(28,28)),\n",
        "        tf.keras.layers.Dense(128, activation=activation_function),\n",
        "        tf.keras.layers.Dense(10, activation='softmax')\n",
        "    ])\n",
        "\n",
        "    model.compile(optimizer='adam', loss='sparse_categorical_crossentropy', metrics=['accuracy'])\n",
        "    model.fit(train_images, train_labels, epochs=5)\n",
        "    test_loss, test_acc =model.evaluate(test_images, test_labels)\n",
        "    print(f\"Test accuracy with {activation_function}: {test_acc}\")"
      ],
      "metadata": {
        "id": "-jwJEpvwMXw0"
      },
      "execution_count": 16,
      "outputs": []
    },
    {
      "cell_type": "code",
      "source": [
        "# Evaluate models with different activation functions\n",
        "for activation in ['sigmoid','tanh', 'relu']:\n",
        "    evaluate_activation(activation)"
      ],
      "metadata": {
        "colab": {
          "base_uri": "https://localhost:8080/"
        },
        "id": "lniX40WMRPwr",
        "outputId": "eba73f53-a2b6-45d1-b1bc-5dd77069f59e"
      },
      "execution_count": 17,
      "outputs": [
        {
          "output_type": "stream",
          "name": "stdout",
          "text": [
            "Epoch 1/5\n",
            "1875/1875 [==============================] - 7s 4ms/step - loss: 0.3975 - accuracy: 0.8963\n",
            "Epoch 2/5\n",
            "1875/1875 [==============================] - 6s 3ms/step - loss: 0.1961 - accuracy: 0.9441\n",
            "Epoch 3/5\n",
            "1875/1875 [==============================] - 7s 3ms/step - loss: 0.1435 - accuracy: 0.9588\n",
            "Epoch 4/5\n",
            "1875/1875 [==============================] - 7s 3ms/step - loss: 0.1114 - accuracy: 0.9681\n",
            "Epoch 5/5\n",
            "1875/1875 [==============================] - 6s 3ms/step - loss: 0.0890 - accuracy: 0.9749\n",
            "313/313 [==============================] - 1s 2ms/step - loss: 0.0987 - accuracy: 0.9688\n",
            "Test accuracy with sigmoid: 0.9688000082969666\n",
            "Epoch 1/5\n",
            "1875/1875 [==============================] - 7s 4ms/step - loss: 0.2856 - accuracy: 0.9165\n",
            "Epoch 2/5\n",
            "1875/1875 [==============================] - 6s 3ms/step - loss: 0.1356 - accuracy: 0.9609\n",
            "Epoch 3/5\n",
            "1875/1875 [==============================] - 7s 4ms/step - loss: 0.0919 - accuracy: 0.9730\n",
            "Epoch 4/5\n",
            "1875/1875 [==============================] - 6s 3ms/step - loss: 0.0670 - accuracy: 0.9798\n",
            "Epoch 5/5\n",
            "1875/1875 [==============================] - 7s 4ms/step - loss: 0.0509 - accuracy: 0.9850\n",
            "313/313 [==============================] - 1s 2ms/step - loss: 0.0758 - accuracy: 0.9758\n",
            "Test accuracy with tanh: 0.9757999777793884\n",
            "Epoch 1/5\n",
            "1875/1875 [==============================] - 8s 4ms/step - loss: 0.2640 - accuracy: 0.9238\n",
            "Epoch 2/5\n",
            "1875/1875 [==============================] - 8s 4ms/step - loss: 0.1163 - accuracy: 0.9661\n",
            "Epoch 3/5\n",
            "1875/1875 [==============================] - 6s 3ms/step - loss: 0.0800 - accuracy: 0.9760\n",
            "Epoch 4/5\n",
            "1875/1875 [==============================] - 7s 4ms/step - loss: 0.0592 - accuracy: 0.9819\n",
            "Epoch 5/5\n",
            "1875/1875 [==============================] - 6s 3ms/step - loss: 0.0452 - accuracy: 0.9863\n",
            "313/313 [==============================] - 1s 2ms/step - loss: 0.0743 - accuracy: 0.9759\n",
            "Test accuracy with relu: 0.9758999943733215\n"
          ]
        }
      ]
    },
    {
      "cell_type": "code",
      "source": [
        "for lr in [0.001, 0.01, 0.1]:\n",
        "    optimizer = tf.keras.optimizers.Adam(learning_rate=lr)\n",
        "    model = tf.keras.Sequential([\n",
        "        tf.keras.Flatten(input_shape=(28,28)),\n",
        "        tf.keras.Dense(128, activation= 'relu'),\n",
        "        tf.keras.layers.Dense(10, activation= 'softmax')\n",
        "    ])\n",
        "    model.compile(optimizer=optimizer, loss='sparse_categorical_crossentropy', metrics=['accuracy'])\n",
        "    model.fit(train_images, train_labels, epochs=5, batch_size=32)\n",
        "    test_loss, test_acc = model.evaluate(test_images, test_labels)\n",
        "    print(f\"Test accuracy with learning rate {lr}:{test_acc}\")"
      ],
      "metadata": {
        "id": "WjMdBNyvZkcj"
      },
      "execution_count": null,
      "outputs": []
    },
    {
      "cell_type": "code",
      "source": [
        "import tensorflow as tf\n",
        "from tensorflow import keras\n",
        "from tensorflow.keras import layers\n",
        "\n",
        "# Load your dataset and preprocess it\n",
        "# For example, you can use the Fashion MNIST dataset as a placeholder\n",
        "(x_train, y_train), (x_test, y_test) = keras.datasets.fashion_mnist.load_data()\n",
        "x_train, x_test = x_train / 255.0, x_test / 255.0\n",
        "\n",
        "# Create a neural network model\n",
        "model = keras.Sequential([\n",
        "    layers.Flatten(input_shape=(28, 28)),\n",
        "    layers.Dense(128, activation='relu'),\n",
        "    layers.Dropout(0.5),  # Add dropout with a dropout rate of 0.5 (you can adjust this value)\n",
        "    layers.Dense(10, activation='softmax')\n",
        "])\n",
        "\n",
        "# Compile the model\n",
        "model.compile(optimizer='adam',\n",
        "              loss='sparse_categorical_crossentropy',\n",
        "              metrics=['accuracy'])\n",
        "\n",
        "# Train the model\n",
        "model.fit(x_train, y_train, epochs=5)\n",
        "\n",
        "# Evaluate the model\n",
        "test_loss, test_acc = model.evaluate(x_test, y_test, verbose=2)\n",
        "print(f'\\nTest accuracy: {test_acc}')\n"
      ],
      "metadata": {
        "colab": {
          "base_uri": "https://localhost:8080/"
        },
        "id": "gHJ0aSZubVUt",
        "outputId": "39899915-e0fc-4545-b4ca-4c07b0b5c77d"
      },
      "execution_count": 23,
      "outputs": [
        {
          "output_type": "stream",
          "name": "stdout",
          "text": [
            "Downloading data from https://storage.googleapis.com/tensorflow/tf-keras-datasets/train-labels-idx1-ubyte.gz\n",
            "29515/29515 [==============================] - 0s 0us/step\n",
            "Downloading data from https://storage.googleapis.com/tensorflow/tf-keras-datasets/train-images-idx3-ubyte.gz\n",
            "26421880/26421880 [==============================] - 0s 0us/step\n",
            "Downloading data from https://storage.googleapis.com/tensorflow/tf-keras-datasets/t10k-labels-idx1-ubyte.gz\n",
            "5148/5148 [==============================] - 0s 0us/step\n",
            "Downloading data from https://storage.googleapis.com/tensorflow/tf-keras-datasets/t10k-images-idx3-ubyte.gz\n",
            "4422102/4422102 [==============================] - 0s 0us/step\n",
            "Epoch 1/5\n",
            "1875/1875 [==============================] - 9s 5ms/step - loss: 0.6231 - accuracy: 0.7786\n",
            "Epoch 2/5\n",
            "1875/1875 [==============================] - 6s 3ms/step - loss: 0.4772 - accuracy: 0.8285\n",
            "Epoch 3/5\n",
            "1875/1875 [==============================] - 7s 4ms/step - loss: 0.4422 - accuracy: 0.8399\n",
            "Epoch 4/5\n",
            "1875/1875 [==============================] - 6s 3ms/step - loss: 0.4273 - accuracy: 0.8443\n",
            "Epoch 5/5\n",
            "1875/1875 [==============================] - 7s 4ms/step - loss: 0.4092 - accuracy: 0.8498\n",
            "313/313 - 1s - loss: 0.3875 - accuracy: 0.8599 - 555ms/epoch - 2ms/step\n",
            "\n",
            "Test accuracy: 0.8598999977111816\n"
          ]
        }
      ]
    },
    {
      "cell_type": "code",
      "source": [
        "import tensorflow as tf\n",
        "from tensorflow import keras\n",
        "from tensorflow.keras import layers\n",
        "from tensorflow.keras.regularizers import l2\n",
        "\n",
        "# Load your dataset and preprocess it\n",
        "# For example, you can use the Fashion MNIST dataset as a placeholder\n",
        "(x_train, y_train), (x_test, y_test) = keras.datasets.fashion_mnist.load_data()\n",
        "x_train, x_test = x_train / 255.0, x_test / 255.0\n",
        "\n",
        "# Create a neural network model with L2 regularization\n",
        "model = keras.Sequential([\n",
        "    layers.Flatten(input_shape=(28, 28)),\n",
        "    layers.Dense(128, activation='relu', kernel_regularizer=l2(0.01)),  # L2 regularization with a strength of 0.01\n",
        "    layers.Dense(64, activation='relu', kernel_regularizer=l2(0.01)),   # L2 regularization with a strength of 0.01\n",
        "    layers.Dense(10, activation='softmax')\n",
        "])\n",
        "\n",
        "# Compile the model\n",
        "model.compile(optimizer='adam',\n",
        "              loss='sparse_categorical_crossentropy',\n",
        "              metrics=['accuracy'])\n",
        "\n",
        "# Train the model\n",
        "model.fit(x_train, y_train, epochs=5)\n",
        "\n",
        "# Evaluate the model\n",
        "test_loss, test_acc = model.evaluate(x_test, y_test, verbose=2)\n",
        "print(f'\\nTest accuracy: {test_acc}')\n"
      ],
      "metadata": {
        "colab": {
          "base_uri": "https://localhost:8080/"
        },
        "id": "DaLyD2iLcKMa",
        "outputId": "beadcf82-ec88-44d0-d023-e517d88f6f77"
      },
      "execution_count": 24,
      "outputs": [
        {
          "output_type": "stream",
          "name": "stdout",
          "text": [
            "Epoch 1/5\n",
            "1875/1875 [==============================] - 8s 4ms/step - loss: 1.0274 - accuracy: 0.7874\n",
            "Epoch 2/5\n",
            "1875/1875 [==============================] - 8s 4ms/step - loss: 0.7031 - accuracy: 0.8085\n",
            "Epoch 3/5\n",
            "1875/1875 [==============================] - 8s 4ms/step - loss: 0.6554 - accuracy: 0.8177\n",
            "Epoch 4/5\n",
            "1875/1875 [==============================] - 7s 4ms/step - loss: 0.6168 - accuracy: 0.8267\n",
            "Epoch 5/5\n",
            "1875/1875 [==============================] - 8s 4ms/step - loss: 0.5997 - accuracy: 0.8301\n",
            "313/313 - 1s - loss: 0.6147 - accuracy: 0.8237 - 599ms/epoch - 2ms/step\n",
            "\n",
            "Test accuracy: 0.8237000107765198\n"
          ]
        }
      ]
    },
    {
      "cell_type": "code",
      "source": [
        "import tensorflow as tf\n",
        "from tensorflow import keras\n",
        "from tensorflow.keras import layers\n",
        "from tensorflow.keras.regularizers import l2\n",
        "\n",
        "# Load your dataset and preprocess it\n",
        "# For example, you can use the Fashion MNIST dataset as a placeholder\n",
        "(x_train, y_train), (x_test, y_test) = keras.datasets.fashion_mnist.load_data()\n",
        "x_train, x_test = x_train / 255.0, x_test / 255.0\n",
        "\n",
        "# Create a baseline model (no regularization)\n",
        "baseline_model = keras.Sequential([\n",
        "    layers.Flatten(input_shape=(28, 28)),\n",
        "    layers.Dense(128, activation='relu'),\n",
        "    layers.Dense(64, activation='relu'),\n",
        "    layers.Dense(10, activation='softmax')\n",
        "])\n",
        "\n",
        "# Compile the baseline model\n",
        "baseline_model.compile(optimizer='adam',\n",
        "                       loss='sparse_categorical_crossentropy',\n",
        "                       metrics=['accuracy'])\n",
        "\n",
        "# Create a regularized model with L2 regularization\n",
        "l2_model = keras.Sequential([\n",
        "    layers.Flatten(input_shape=(28, 28)),\n",
        "    layers.Dense(128, activation='relu', kernel_regularizer=l2(0.01)),\n",
        "    layers.Dense(64, activation='relu', kernel_regularizer=l2(0.01)),\n",
        "    layers.Dense(10, activation='softmax')\n",
        "])\n",
        "\n",
        "# Compile the L2 regularized model\n",
        "l2_model.compile(optimizer='adam',\n",
        "                 loss='sparse_categorical_crossentropy',\n",
        "                 metrics=['accuracy'])\n",
        "\n",
        "# Create a regularized model with dropout\n",
        "dropout_model = keras.Sequential([\n",
        "    layers.Flatten(input_shape=(28, 28)),\n",
        "    layers.Dense(128, activation='relu'),\n",
        "    layers.Dropout(0.5),  # Add dropout with a dropout rate of 0.5\n",
        "    layers.Dense(64, activation='relu'),\n",
        "    layers.Dropout(0.5),  # Add dropout with a dropout rate of 0.5\n",
        "    layers.Dense(10, activation='softmax')\n",
        "])\n",
        "\n",
        "# Compile the dropout regularized model\n",
        "dropout_model.compile(optimizer='adam',\n",
        "                      loss='sparse_categorical_crossentropy',\n",
        "                      metrics=['accuracy'])\n",
        "\n",
        "# Train the models\n",
        "baseline_history = baseline_model.fit(x_train, y_train, epochs=5, validation_data=(x_test, y_test))\n",
        "l2_history = l2_model.fit(x_train, y_train, epochs=5, validation_data=(x_test, y_test))\n",
        "dropout_history = dropout_model.fit(x_train, y_train, epochs=5, validation_data=(x_test, y_test))\n",
        "\n",
        "# Evaluate the models\n",
        "baseline_test_loss, baseline_test_acc = baseline_model.evaluate(x_test, y_test, verbose=2)\n",
        "l2_test_loss, l2_test_acc = l2_model.evaluate(x_test, y_test, verbose=2)\n",
        "dropout_test_loss, dropout_test_acc = dropout_model.evaluate(x_test, y_test, verbose=2)\n",
        "\n",
        "print(f'\\nBaseline Test accuracy: {baseline_test_acc}')\n",
        "print(f'L2 Regularized Test accuracy: {l2_test_acc}')\n",
        "print(f'Dropout Regularized Test accuracy: {dropout_test_acc}')\n"
      ],
      "metadata": {
        "colab": {
          "base_uri": "https://localhost:8080/"
        },
        "id": "UO51KB-hdBNi",
        "outputId": "3f845a6f-e344-497c-ebdc-d3a77723f5a1"
      },
      "execution_count": 25,
      "outputs": [
        {
          "output_type": "stream",
          "name": "stdout",
          "text": [
            "Epoch 1/5\n",
            "1875/1875 [==============================] - 9s 5ms/step - loss: 0.4939 - accuracy: 0.8257 - val_loss: 0.4139 - val_accuracy: 0.8500\n",
            "Epoch 2/5\n",
            "1875/1875 [==============================] - 8s 4ms/step - loss: 0.3700 - accuracy: 0.8646 - val_loss: 0.4248 - val_accuracy: 0.8479\n",
            "Epoch 3/5\n",
            "1875/1875 [==============================] - 9s 5ms/step - loss: 0.3334 - accuracy: 0.8773 - val_loss: 0.4052 - val_accuracy: 0.8488\n",
            "Epoch 4/5\n",
            "1875/1875 [==============================] - 9s 5ms/step - loss: 0.3098 - accuracy: 0.8860 - val_loss: 0.3511 - val_accuracy: 0.8707\n",
            "Epoch 5/5\n",
            "1875/1875 [==============================] - 8s 4ms/step - loss: 0.2928 - accuracy: 0.8903 - val_loss: 0.3436 - val_accuracy: 0.8755\n",
            "Epoch 1/5\n",
            "1875/1875 [==============================] - 10s 5ms/step - loss: 1.0382 - accuracy: 0.7896 - val_loss: 0.7568 - val_accuracy: 0.7954\n",
            "Epoch 2/5\n",
            "1875/1875 [==============================] - 8s 4ms/step - loss: 0.7098 - accuracy: 0.8118 - val_loss: 0.7318 - val_accuracy: 0.7943\n",
            "Epoch 3/5\n",
            "1875/1875 [==============================] - 9s 5ms/step - loss: 0.6541 - accuracy: 0.8206 - val_loss: 0.6818 - val_accuracy: 0.8027\n",
            "Epoch 4/5\n",
            "1875/1875 [==============================] - 10s 5ms/step - loss: 0.6218 - accuracy: 0.8270 - val_loss: 0.6193 - val_accuracy: 0.8228\n",
            "Epoch 5/5\n",
            "1875/1875 [==============================] - 8s 4ms/step - loss: 0.5985 - accuracy: 0.8319 - val_loss: 0.6248 - val_accuracy: 0.8203\n",
            "Epoch 1/5\n",
            "1875/1875 [==============================] - 10s 5ms/step - loss: 0.7782 - accuracy: 0.7233 - val_loss: 0.4858 - val_accuracy: 0.8223\n",
            "Epoch 2/5\n",
            "1875/1875 [==============================] - 9s 5ms/step - loss: 0.5608 - accuracy: 0.8018 - val_loss: 0.4401 - val_accuracy: 0.8445\n",
            "Epoch 3/5\n",
            "1875/1875 [==============================] - 9s 5ms/step - loss: 0.5202 - accuracy: 0.8180 - val_loss: 0.4319 - val_accuracy: 0.8456\n",
            "Epoch 4/5\n",
            "1875/1875 [==============================] - 8s 4ms/step - loss: 0.4910 - accuracy: 0.8258 - val_loss: 0.4102 - val_accuracy: 0.8500\n",
            "Epoch 5/5\n",
            "1875/1875 [==============================] - 9s 5ms/step - loss: 0.4762 - accuracy: 0.8314 - val_loss: 0.4323 - val_accuracy: 0.8385\n",
            "313/313 - 0s - loss: 0.3436 - accuracy: 0.8755 - 456ms/epoch - 1ms/step\n",
            "313/313 - 0s - loss: 0.6248 - accuracy: 0.8203 - 472ms/epoch - 2ms/step\n",
            "313/313 - 0s - loss: 0.4323 - accuracy: 0.8385 - 459ms/epoch - 1ms/step\n",
            "\n",
            "Baseline Test accuracy: 0.8755000233650208\n",
            "L2 Regularized Test accuracy: 0.8202999830245972\n",
            "Dropout Regularized Test accuracy: 0.8385000228881836\n"
          ]
        }
      ]
    },
    {
      "cell_type": "code",
      "source": [
        "import tensorflow as tf\n",
        "from tensorflow import keras\n",
        "from sklearn.metrics import classification_report\n",
        "\n",
        "\n",
        "(x_test, y_true) = 1\n",
        "\n",
        "\n",
        "model = keras.models.load_model('your_model.h5')\n",
        "\n",
        "# Make predictions on the test data\n",
        "y_pred = model.predict(x_test)\n",
        "\n",
        "# Convert probability predictions to class labels\n",
        "y_pred = tf.argmax(y_pred, axis=1)\n",
        "\n",
        "# Calculate precision, recall, and F1-score using TensorFlow/Keras metrics\n",
        "precision = tf.keras.metrics.Precision()(y_true, y_pred)\n",
        "recall = tf.keras.metrics.Recall()(y_true, y_pred)\n",
        "f1_score = tf.keras.metrics.F1Score(num_classes=num_classes, average='weighted')(y_true, y_pred)\n",
        "\n",
        "# Print the results\n",
        "print(f'Precision: {precision.numpy()}')\n",
        "print(f'Recall: {recall.numpy()}')\n",
        "print(f'F1-Score: {f1_score.numpy()}')\n",
        "\n",
        "# Generate a classification report using scikit-learn\n",
        "report = classification_report(y_true, y_pred)\n",
        "print(report)\n"
      ],
      "metadata": {
        "colab": {
          "base_uri": "https://localhost:8080/",
          "height": 245
        },
        "id": "DzaeuphefZ9x",
        "outputId": "5a6b44ce-729e-46ef-e226-94b6149b245e"
      },
      "execution_count": 34,
      "outputs": [
        {
          "output_type": "error",
          "ename": "TypeError",
          "evalue": "ignored",
          "traceback": [
            "\u001b[0;31m---------------------------------------------------------------------------\u001b[0m",
            "\u001b[0;31mTypeError\u001b[0m                                 Traceback (most recent call last)",
            "\u001b[0;32m<ipython-input-34-51006079a0cd>\u001b[0m in \u001b[0;36m<cell line: 6>\u001b[0;34m()\u001b[0m\n\u001b[1;32m      4\u001b[0m \u001b[0;34m\u001b[0m\u001b[0m\n\u001b[1;32m      5\u001b[0m \u001b[0;34m\u001b[0m\u001b[0m\n\u001b[0;32m----> 6\u001b[0;31m \u001b[0;34m(\u001b[0m\u001b[0mx_test\u001b[0m\u001b[0;34m,\u001b[0m \u001b[0my_true\u001b[0m\u001b[0;34m)\u001b[0m \u001b[0;34m=\u001b[0m \u001b[0;36m1\u001b[0m\u001b[0;34m\u001b[0m\u001b[0;34m\u001b[0m\u001b[0m\n\u001b[0m\u001b[1;32m      7\u001b[0m \u001b[0;34m\u001b[0m\u001b[0m\n\u001b[1;32m      8\u001b[0m \u001b[0;31m# Load your trained model\u001b[0m\u001b[0;34m\u001b[0m\u001b[0;34m\u001b[0m\u001b[0m\n",
            "\u001b[0;31mTypeError\u001b[0m: cannot unpack non-iterable int object"
          ]
        }
      ]
    },
    {
      "cell_type": "code",
      "source": [
        "import tensorflow as tf\n",
        "from tensorflow.keras import layers, models\n",
        "from tensorflow.keras.datasets import mnist\n",
        "from sklearn.metrics import classification_report\n",
        "\n",
        "# Load and preprocess the MNIST dataset\n",
        "(x_train, y_train), (x_test, y_test) = mnist.load_data()\n",
        "x_train, x_test = x_train / 255.0, x_test / 255.0  # Normalize pixel values to be between 0 and 1\n",
        "\n",
        "# CNN Model\n",
        "cnn_model = models.Sequential([\n",
        "    layers.Conv2D(32, (3, 3), activation='relu', input_shape=(28, 28, 1)),\n",
        "    layers.MaxPooling2D((2, 2)),\n",
        "    layers.Conv2D(64, (3, 3), activation='relu'),\n",
        "    layers.MaxPooling2D((2, 2)),\n",
        "    layers.Flatten(),\n",
        "    layers.Dense(64, activation='relu'),\n",
        "    layers.Dense(10, activation='softmax')\n",
        "])\n",
        "\n",
        "# Compile the CNN model\n",
        "cnn_model.compile(optimizer='adam',\n",
        "                  loss='sparse_categorical_crossentropy',\n",
        "                  metrics=['accuracy'])\n",
        "\n",
        "# Reshape input data for CNN (add channel dimension)\n",
        "x_train_cnn = x_train.reshape(-1, 28, 28, 1)\n",
        "x_test_cnn = x_test.reshape(-1, 28, 28, 1)\n",
        "\n",
        "# Train the CNN model\n",
        "cnn_model.fit(x_train_cnn, y_train, epochs=5)\n",
        "\n",
        "# Evaluate the CNN model\n",
        "cnn_test_loss, cnn_test_acc = cnn_model.evaluate(x_test_cnn, y_test, verbose=2)\n",
        "\n",
        "# Baseline Feedforward Neural Network Model\n",
        "baseline_model = models.Sequential([\n",
        "    layers.Flatten(input_shape=(28, 28)),\n",
        "    layers.Dense(128, activation='relu'),\n",
        "    layers.Dense(10, activation='softmax')\n",
        "])\n",
        "\n",
        "# Compile the baseline model\n",
        "baseline_model.compile(optimizer='adam',\n",
        "                       loss='sparse_categorical_crossentropy',\n",
        "                       metrics=['accuracy'])\n",
        "\n",
        "# Train the baseline model\n",
        "baseline_model.fit(x_train, y_train, epochs=5)\n",
        "\n",
        "# Evaluate the baseline model\n",
        "baseline_test_loss, baseline_test_acc = baseline_model.evaluate(x_test, y_test, verbose=2)\n",
        "\n",
        "# Compare the performance of the models\n",
        "print(\"CNN Model Test Accuracy:\", cnn_test_acc)\n",
        "print(\"Baseline Model Test Accuracy:\", baseline_test_acc)\n",
        "\n",
        "# Generate a classification report for the CNN model\n",
        "cnn_predictions = cnn_model.predict(x_test_cnn)\n",
        "cnn_pred_labels = [tf.argmax(prediction).numpy() for prediction in cnn_predictions]\n",
        "cnn_report = classification_report(y_test, cnn_pred_labels)\n",
        "print(\"CNN Model Classification Report:\")\n",
        "print(cnn_report)\n"
      ],
      "metadata": {
        "colab": {
          "base_uri": "https://localhost:8080/"
        },
        "id": "MmzQXFF8iEse",
        "outputId": "07ef44a8-f34b-4458-ae34-2ddb6cef7c1a"
      },
      "execution_count": 35,
      "outputs": [
        {
          "output_type": "stream",
          "name": "stdout",
          "text": [
            "Epoch 1/5\n",
            "1875/1875 [==============================] - 48s 25ms/step - loss: 0.1420 - accuracy: 0.9560\n",
            "Epoch 2/5\n",
            "1875/1875 [==============================] - 46s 24ms/step - loss: 0.0465 - accuracy: 0.9855\n",
            "Epoch 3/5\n",
            "1875/1875 [==============================] - 47s 25ms/step - loss: 0.0328 - accuracy: 0.9896\n",
            "Epoch 4/5\n",
            "1875/1875 [==============================] - 46s 24ms/step - loss: 0.0245 - accuracy: 0.9921\n",
            "Epoch 5/5\n",
            "1875/1875 [==============================] - 46s 25ms/step - loss: 0.0177 - accuracy: 0.9945\n",
            "313/313 - 2s - loss: 0.0275 - accuracy: 0.9914 - 2s/epoch - 7ms/step\n",
            "Epoch 1/5\n",
            "1875/1875 [==============================] - 8s 4ms/step - loss: 0.2570 - accuracy: 0.9265\n",
            "Epoch 2/5\n",
            "1875/1875 [==============================] - 6s 3ms/step - loss: 0.1146 - accuracy: 0.9662\n",
            "Epoch 3/5\n",
            "1875/1875 [==============================] - 7s 4ms/step - loss: 0.0809 - accuracy: 0.9761\n",
            "Epoch 4/5\n",
            "1875/1875 [==============================] - 6s 3ms/step - loss: 0.0601 - accuracy: 0.9814\n",
            "Epoch 5/5\n",
            "1875/1875 [==============================] - 7s 4ms/step - loss: 0.0463 - accuracy: 0.9860\n",
            "313/313 - 1s - loss: 0.0768 - accuracy: 0.9758 - 563ms/epoch - 2ms/step\n",
            "CNN Model Test Accuracy: 0.9914000034332275\n",
            "Baseline Model Test Accuracy: 0.9757999777793884\n",
            "313/313 [==============================] - 2s 7ms/step\n",
            "CNN Model Classification Report:\n",
            "              precision    recall  f1-score   support\n",
            "\n",
            "           0       0.99      1.00      0.99       980\n",
            "           1       1.00      1.00      1.00      1135\n",
            "           2       1.00      0.99      0.99      1032\n",
            "           3       0.99      1.00      0.99      1010\n",
            "           4       0.99      0.99      0.99       982\n",
            "           5       0.99      0.98      0.99       892\n",
            "           6       1.00      0.99      0.99       958\n",
            "           7       0.99      0.99      0.99      1028\n",
            "           8       1.00      0.99      0.99       974\n",
            "           9       0.98      0.99      0.99      1009\n",
            "\n",
            "    accuracy                           0.99     10000\n",
            "   macro avg       0.99      0.99      0.99     10000\n",
            "weighted avg       0.99      0.99      0.99     10000\n",
            "\n"
          ]
        }
      ]
    }
  ]
}