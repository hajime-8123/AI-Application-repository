{
  "cells": [
    {
      "cell_type": "markdown",
      "metadata": {
        "id": "view-in-github",
        "colab_type": "text"
      },
      "source": [
        "<a href=\"https://colab.research.google.com/github/hajime-8123/AI-Application-repository/blob/main/WEEK3_LAB-3.ipynb\" target=\"_parent\"><img src=\"https://colab.research.google.com/assets/colab-badge.svg\" alt=\"Open In Colab\"/></a>"
      ]
    },
    {
      "cell_type": "code",
      "execution_count": null,
      "metadata": {
        "id": "wGsJ6CZ5yatu"
      },
      "outputs": [],
      "source": [
        "!pip install -q keras\n"
      ]
    },
    {
      "cell_type": "code",
      "execution_count": null,
      "metadata": {
        "colab": {
          "base_uri": "https://localhost:8080/"
        },
        "id": "Y7kif74m0M_4",
        "outputId": "7656e900-5b37-4695-a8bb-ad640a852b65"
      },
      "outputs": [
        {
          "name": "stdout",
          "output_type": "stream",
          "text": [
            "Requirement already satisfied: kaggle in /usr/local/lib/python3.10/dist-packages (1.5.16)\n",
            "Requirement already satisfied: six>=1.10 in /usr/local/lib/python3.10/dist-packages (from kaggle) (1.16.0)\n",
            "Requirement already satisfied: certifi in /usr/local/lib/python3.10/dist-packages (from kaggle) (2023.7.22)\n",
            "Requirement already satisfied: python-dateutil in /usr/local/lib/python3.10/dist-packages (from kaggle) (2.8.2)\n",
            "Requirement already satisfied: requests in /usr/local/lib/python3.10/dist-packages (from kaggle) (2.31.0)\n",
            "Requirement already satisfied: tqdm in /usr/local/lib/python3.10/dist-packages (from kaggle) (4.66.1)\n",
            "Requirement already satisfied: python-slugify in /usr/local/lib/python3.10/dist-packages (from kaggle) (8.0.1)\n",
            "Requirement already satisfied: urllib3 in /usr/local/lib/python3.10/dist-packages (from kaggle) (2.0.4)\n",
            "Requirement already satisfied: bleach in /usr/local/lib/python3.10/dist-packages (from kaggle) (6.0.0)\n",
            "Requirement already satisfied: webencodings in /usr/local/lib/python3.10/dist-packages (from bleach->kaggle) (0.5.1)\n",
            "Requirement already satisfied: text-unidecode>=1.3 in /usr/local/lib/python3.10/dist-packages (from python-slugify->kaggle) (1.3)\n",
            "Requirement already satisfied: charset-normalizer<4,>=2 in /usr/local/lib/python3.10/dist-packages (from requests->kaggle) (3.2.0)\n",
            "Requirement already satisfied: idna<4,>=2.5 in /usr/local/lib/python3.10/dist-packages (from requests->kaggle) (3.4)\n"
          ]
        }
      ],
      "source": [
        "!pip install kaggle"
      ]
    },
    {
      "cell_type": "code",
      "execution_count": null,
      "metadata": {
        "colab": {
          "base_uri": "https://localhost:8080/",
          "height": 110
        },
        "id": "Bbx3Tngl0Tfv",
        "outputId": "5c15a291-30e2-4f5b-9ceb-136bf12ab84e"
      },
      "outputs": [
        {
          "data": {
            "text/html": [
              "\n",
              "     <input type=\"file\" id=\"files-3128c3af-fb31-45a0-9bc5-6ea241a7ec1d\" name=\"files[]\" multiple disabled\n",
              "        style=\"border:none\" />\n",
              "     <output id=\"result-3128c3af-fb31-45a0-9bc5-6ea241a7ec1d\">\n",
              "      Upload widget is only available when the cell has been executed in the\n",
              "      current browser session. Please rerun this cell to enable.\n",
              "      </output>\n",
              "      <script>// Copyright 2017 Google LLC\n",
              "//\n",
              "// Licensed under the Apache License, Version 2.0 (the \"License\");\n",
              "// you may not use this file except in compliance with the License.\n",
              "// You may obtain a copy of the License at\n",
              "//\n",
              "//      http://www.apache.org/licenses/LICENSE-2.0\n",
              "//\n",
              "// Unless required by applicable law or agreed to in writing, software\n",
              "// distributed under the License is distributed on an \"AS IS\" BASIS,\n",
              "// WITHOUT WARRANTIES OR CONDITIONS OF ANY KIND, either express or implied.\n",
              "// See the License for the specific language governing permissions and\n",
              "// limitations under the License.\n",
              "\n",
              "/**\n",
              " * @fileoverview Helpers for google.colab Python module.\n",
              " */\n",
              "(function(scope) {\n",
              "function span(text, styleAttributes = {}) {\n",
              "  const element = document.createElement('span');\n",
              "  element.textContent = text;\n",
              "  for (const key of Object.keys(styleAttributes)) {\n",
              "    element.style[key] = styleAttributes[key];\n",
              "  }\n",
              "  return element;\n",
              "}\n",
              "\n",
              "// Max number of bytes which will be uploaded at a time.\n",
              "const MAX_PAYLOAD_SIZE = 100 * 1024;\n",
              "\n",
              "function _uploadFiles(inputId, outputId) {\n",
              "  const steps = uploadFilesStep(inputId, outputId);\n",
              "  const outputElement = document.getElementById(outputId);\n",
              "  // Cache steps on the outputElement to make it available for the next call\n",
              "  // to uploadFilesContinue from Python.\n",
              "  outputElement.steps = steps;\n",
              "\n",
              "  return _uploadFilesContinue(outputId);\n",
              "}\n",
              "\n",
              "// This is roughly an async generator (not supported in the browser yet),\n",
              "// where there are multiple asynchronous steps and the Python side is going\n",
              "// to poll for completion of each step.\n",
              "// This uses a Promise to block the python side on completion of each step,\n",
              "// then passes the result of the previous step as the input to the next step.\n",
              "function _uploadFilesContinue(outputId) {\n",
              "  const outputElement = document.getElementById(outputId);\n",
              "  const steps = outputElement.steps;\n",
              "\n",
              "  const next = steps.next(outputElement.lastPromiseValue);\n",
              "  return Promise.resolve(next.value.promise).then((value) => {\n",
              "    // Cache the last promise value to make it available to the next\n",
              "    // step of the generator.\n",
              "    outputElement.lastPromiseValue = value;\n",
              "    return next.value.response;\n",
              "  });\n",
              "}\n",
              "\n",
              "/**\n",
              " * Generator function which is called between each async step of the upload\n",
              " * process.\n",
              " * @param {string} inputId Element ID of the input file picker element.\n",
              " * @param {string} outputId Element ID of the output display.\n",
              " * @return {!Iterable<!Object>} Iterable of next steps.\n",
              " */\n",
              "function* uploadFilesStep(inputId, outputId) {\n",
              "  const inputElement = document.getElementById(inputId);\n",
              "  inputElement.disabled = false;\n",
              "\n",
              "  const outputElement = document.getElementById(outputId);\n",
              "  outputElement.innerHTML = '';\n",
              "\n",
              "  const pickedPromise = new Promise((resolve) => {\n",
              "    inputElement.addEventListener('change', (e) => {\n",
              "      resolve(e.target.files);\n",
              "    });\n",
              "  });\n",
              "\n",
              "  const cancel = document.createElement('button');\n",
              "  inputElement.parentElement.appendChild(cancel);\n",
              "  cancel.textContent = 'Cancel upload';\n",
              "  const cancelPromise = new Promise((resolve) => {\n",
              "    cancel.onclick = () => {\n",
              "      resolve(null);\n",
              "    };\n",
              "  });\n",
              "\n",
              "  // Wait for the user to pick the files.\n",
              "  const files = yield {\n",
              "    promise: Promise.race([pickedPromise, cancelPromise]),\n",
              "    response: {\n",
              "      action: 'starting',\n",
              "    }\n",
              "  };\n",
              "\n",
              "  cancel.remove();\n",
              "\n",
              "  // Disable the input element since further picks are not allowed.\n",
              "  inputElement.disabled = true;\n",
              "\n",
              "  if (!files) {\n",
              "    return {\n",
              "      response: {\n",
              "        action: 'complete',\n",
              "      }\n",
              "    };\n",
              "  }\n",
              "\n",
              "  for (const file of files) {\n",
              "    const li = document.createElement('li');\n",
              "    li.append(span(file.name, {fontWeight: 'bold'}));\n",
              "    li.append(span(\n",
              "        `(${file.type || 'n/a'}) - ${file.size} bytes, ` +\n",
              "        `last modified: ${\n",
              "            file.lastModifiedDate ? file.lastModifiedDate.toLocaleDateString() :\n",
              "                                    'n/a'} - `));\n",
              "    const percent = span('0% done');\n",
              "    li.appendChild(percent);\n",
              "\n",
              "    outputElement.appendChild(li);\n",
              "\n",
              "    const fileDataPromise = new Promise((resolve) => {\n",
              "      const reader = new FileReader();\n",
              "      reader.onload = (e) => {\n",
              "        resolve(e.target.result);\n",
              "      };\n",
              "      reader.readAsArrayBuffer(file);\n",
              "    });\n",
              "    // Wait for the data to be ready.\n",
              "    let fileData = yield {\n",
              "      promise: fileDataPromise,\n",
              "      response: {\n",
              "        action: 'continue',\n",
              "      }\n",
              "    };\n",
              "\n",
              "    // Use a chunked sending to avoid message size limits. See b/62115660.\n",
              "    let position = 0;\n",
              "    do {\n",
              "      const length = Math.min(fileData.byteLength - position, MAX_PAYLOAD_SIZE);\n",
              "      const chunk = new Uint8Array(fileData, position, length);\n",
              "      position += length;\n",
              "\n",
              "      const base64 = btoa(String.fromCharCode.apply(null, chunk));\n",
              "      yield {\n",
              "        response: {\n",
              "          action: 'append',\n",
              "          file: file.name,\n",
              "          data: base64,\n",
              "        },\n",
              "      };\n",
              "\n",
              "      let percentDone = fileData.byteLength === 0 ?\n",
              "          100 :\n",
              "          Math.round((position / fileData.byteLength) * 100);\n",
              "      percent.textContent = `${percentDone}% done`;\n",
              "\n",
              "    } while (position < fileData.byteLength);\n",
              "  }\n",
              "\n",
              "  // All done.\n",
              "  yield {\n",
              "    response: {\n",
              "      action: 'complete',\n",
              "    }\n",
              "  };\n",
              "}\n",
              "\n",
              "scope.google = scope.google || {};\n",
              "scope.google.colab = scope.google.colab || {};\n",
              "scope.google.colab._files = {\n",
              "  _uploadFiles,\n",
              "  _uploadFilesContinue,\n",
              "};\n",
              "})(self);\n",
              "</script> "
            ],
            "text/plain": [
              "<IPython.core.display.HTML object>"
            ]
          },
          "metadata": {},
          "output_type": "display_data"
        },
        {
          "name": "stdout",
          "output_type": "stream",
          "text": [
            "Saving kaggle 2.json to kaggle 2 (1).json\n"
          ]
        },
        {
          "data": {
            "text/plain": [
              "{'kaggle 2 (1).json': b'{\"username\":\"markzuckerberk\",\"key\":\"ca7059dc7ddaac8e5c58277360a2ea41\"}'}"
            ]
          },
          "execution_count": 5,
          "metadata": {},
          "output_type": "execute_result"
        }
      ],
      "source": [
        "import pandas as pd\n",
        "from google.colab import files\n",
        "files.upload()"
      ]
    },
    {
      "cell_type": "markdown",
      "metadata": {
        "id": "5JW2nZm1zGe9"
      },
      "source": [
        "# New Section"
      ]
    },
    {
      "cell_type": "code",
      "execution_count": null,
      "metadata": {
        "colab": {
          "base_uri": "https://localhost:8080/"
        },
        "id": "qFNWtpvE1RhQ",
        "outputId": "6a4d7ec4-7e6d-405e-b419-80cb5178a8cf"
      },
      "outputs": [
        {
          "name": "stdout",
          "output_type": "stream",
          "text": [
            "cp: cannot stat 'kaggle.json': No such file or directory\n",
            "chmod: cannot access '/root/.kaggle.json': No such file or directory\n"
          ]
        }
      ],
      "source": [
        "!mkdir -p ~/.kaggle\n",
        "!cp kaggle.json ~/.kaggle/\n",
        "\n",
        "#This permissions change avoids a warning on Kaglle tool startup.\n",
        "!chmod 600 ~/.kaggle.json"
      ]
    },
    {
      "cell_type": "code",
      "execution_count": 3,
      "metadata": {
        "id": "KWQzKxxeNhSg"
      },
      "outputs": [],
      "source": [
        "import numpy as np\n",
        "np.random.seed(3) #To make repeatable\n",
        "LEARNING_RATE = 0.1\n",
        "index_list=[0,1,2,3] #Used to randomize order\n",
        "\n",
        "#Define training\n",
        "x_train = [np.array([1.0, -1.0, -1.0]),\n",
        "           np.array([1.0, -1.0, 1.0]),\n",
        "           np.array([1.0, 1.0, -1.0]),\n",
        "           np.array([1.0, 1.0, 1.0])]\n",
        "y_train = [0.0, 1.0, 1.0, 1,0, 0.0] # Output (ground truth)"
      ]
    },
    {
      "cell_type": "code",
      "execution_count": 4,
      "metadata": {
        "id": "meYr2urZDYhs"
      },
      "outputs": [],
      "source": [
        "def neuron_w(input_count):\n",
        "    weights = np.zeros(input_count+1)\n",
        "    for i in range(1,\n",
        "    (input_count+1)):\n",
        "       weights[i] = np.random.uniform(-1.0, 1.0)\n",
        "       return weights\n",
        "n_w = [neuron_w(2), neuron_w(2), neuron_w(2)]\n",
        "n_y = [0, 0, 0]\n",
        "n_error = [0, 0, 0]"
      ]
    },
    {
      "cell_type": "code",
      "execution_count": 10,
      "metadata": {
        "id": "RHtTl2l04D-x"
      },
      "outputs": [],
      "source": [
        "def show_learning():\n",
        "    print('Current Weights:')\n",
        "    for i, w in enumerate(n_w):\n",
        "      print('neuron', i, ':w0=', '%5.2f' % w[0],\n",
        "            '%5.2f' % w[2])\n",
        "      print('----------------')\n",
        "\n",
        "def forward_pass(x):\n",
        "    global n_y\n",
        "    n_y[0] = np.tanh(np.dot(n_w[0], x)) # Neuron 0\n",
        "    n_y[1] = np.tanh(np.dot(n_w[1], x)) # Neuron 1\n",
        "    n2_inputs = np.array([1.0, n_y[0], n_y[1]]) # 1.0 is bias\n",
        "    z2 = np.dot(n_w[2], n2_inputs)\n",
        "    n_y[2] = 1.0 / (1.0 + np.exp(-z2))\n",
        "\n",
        "def backward_pass(y_truth):\n",
        "    global n_error\n",
        "    error_prime = -(y_truth - n_y[2]) # Derivative of loss-func\n",
        "    derivative = n_y[2] * (1.0 - n_y[2]) # Logistic derivative\n",
        "    n_error[2] = error_prime * derivative\n",
        "    derivative = 1.0 - n_y[0]**2 # tanh derivative\n",
        "    n_error[0] = n_w[2][1] * n_error[2] * derivative\n",
        "    derivative = 1.0 - n_y[1]**2 # tanh derivative\n",
        "    n_error[1] = n_w[2][2] * n_error[2] * derivative\n",
        "\n",
        "def adjust_weights(x):\n",
        "    global n_w\n",
        "    n_w[0] -= (x * LEARNING_RATE * n_error[0])\n",
        "    n_w[1] -= (x * LEARNING_RATE * n_error[1])\n",
        "    n2_inputs = np.array([1.0, n_y[0], n_y[1]]) # 1.0 is bias\n",
        "    n_w[2] -= (n2_inputs * LEARNING_RATE * n_error[2])"
      ]
    },
    {
      "cell_type": "code",
      "source": [
        "# Network training loop\n",
        "all_correct = False\n",
        "while not all_correct: #Train until converged\n",
        "    all_correct = True\n",
        "    np.random.shuffle(index_list) #Randomize order\n",
        "    for i in index_list: #Train on all examples\n",
        "        forward_pass(x_train[i])\n",
        "        backward_pass(y_train[i])\n",
        "        adjust_weights(x_train[i])\n",
        "        show_learning() # show updated weights\n",
        "for i in range(len(x_train)): #check if converged\n",
        "    forward_pass(x_train[i])\n",
        "    print('x1 =', '%4.1f' % x_train[i][1], ', x2 =',\n",
        "          '%4.1f' % x_train[i][2], ', y =',\n",
        "          '%.4f' % n_y[2])\n",
        "    if (((y_train[i] < 0.5) and (n_y[2] >= 0.5))\n",
        "             or ((y_train[i] >= 0.5) and (n_y[2] < 0.5))):\n",
        "         all_correct = False"
      ],
      "metadata": {
        "colab": {
          "base_uri": "https://localhost:8080/"
        },
        "id": "eGAP4S775nBu",
        "outputId": "85548fee-da5f-45c6-cae9-c3bc1a5332e4"
      },
      "execution_count": 13,
      "outputs": [
        {
          "output_type": "stream",
          "name": "stdout",
          "text": [
            "Current Weights:\n",
            "neuron 0 :w0= -0.01 -0.01\n",
            "----------------\n",
            "neuron 1 :w0=  0.00  0.00\n",
            "----------------\n",
            "neuron 2 :w0=  0.01  0.01\n",
            "----------------\n",
            "Current Weights:\n",
            "neuron 0 :w0= -0.01 -0.00\n",
            "----------------\n",
            "neuron 1 :w0=  0.00 -0.00\n",
            "----------------\n",
            "neuron 2 :w0=  0.03  0.01\n",
            "----------------\n",
            "Current Weights:\n",
            "neuron 0 :w0= -0.02 -0.01\n",
            "----------------\n",
            "neuron 1 :w0=  0.00  0.00\n",
            "----------------\n",
            "neuron 2 :w0=  0.04  0.01\n",
            "----------------\n",
            "Current Weights:\n",
            "neuron 0 :w0= -0.01 -0.01\n",
            "----------------\n",
            "neuron 1 :w0=  0.00  0.00\n",
            "----------------\n",
            "neuron 2 :w0=  0.02  0.01\n",
            "----------------\n",
            "x1 = -1.0 , x2 = -1.0 , y = 0.5145\n",
            "x1 = -1.0 , x2 =  1.0 , y = 0.5166\n",
            "x1 =  1.0 , x2 = -1.0 , y = 0.4977\n",
            "x1 =  1.0 , x2 =  1.0 , y = 0.4999\n"
          ]
        }
      ]
    }
  ],
  "metadata": {
    "accelerator": "GPU",
    "colab": {
      "provenance": [],
      "authorship_tag": "ABX9TyN9HGFeWJWkfz3A7zjLva0g",
      "include_colab_link": true
    },
    "kernelspec": {
      "display_name": "Python 3",
      "name": "python3"
    },
    "language_info": {
      "name": "python"
    }
  },
  "nbformat": 4,
  "nbformat_minor": 0
}